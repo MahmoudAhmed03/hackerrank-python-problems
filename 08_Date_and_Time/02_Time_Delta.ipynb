{
 "cells": [
  {
   "cell_type": "markdown",
   "id": "2a7e3e64",
   "metadata": {},
   "source": [
    "# Time Delta\n",
    "**Subdomain:** Date and Time\n",
    "\n",
    "_Description not found_"
   ]
  },
  {
   "cell_type": "code",
   "execution_count": null,
   "id": "dc3b6147",
   "metadata": {},
   "outputs": [],
   "source": [
    "# Write your solution below"
   ]
  }
 ],
 "metadata": {},
 "nbformat": 4,
 "nbformat_minor": 5
}
