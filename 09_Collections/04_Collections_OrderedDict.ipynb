{
 "cells": [
  {
   "cell_type": "markdown",
   "id": "aad463fc",
   "metadata": {},
   "source": [
    "# Collections.OrderedDict()\n",
    "**Subdomain:** Collections\n",
    "\n",
    "_Description not found_"
   ]
  },
  {
   "cell_type": "code",
   "execution_count": null,
   "id": "029c5409",
   "metadata": {},
   "outputs": [],
   "source": [
    "# Write your solution below"
   ]
  }
 ],
 "metadata": {},
 "nbformat": 4,
 "nbformat_minor": 5
}
