{
 "cells": [
  {
   "cell_type": "markdown",
   "id": "74133f1c",
   "metadata": {},
   "source": [
    "# collections.Counter()\n",
    "**Subdomain:** Collections\n",
    "\n",
    "_Description not found_"
   ]
  },
  {
   "cell_type": "code",
   "execution_count": null,
   "id": "f5f89ca2",
   "metadata": {},
   "outputs": [],
   "source": [
    "# Write your solution below"
   ]
  }
 ],
 "metadata": {},
 "nbformat": 4,
 "nbformat_minor": 5
}
