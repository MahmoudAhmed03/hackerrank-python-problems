{
 "cells": [
  {
   "cell_type": "markdown",
   "id": "f65b87fb",
   "metadata": {},
   "source": [
    "# Word Order\n",
    "**Subdomain:** Collections\n",
    "\n",
    "_Description not found_"
   ]
  },
  {
   "cell_type": "code",
   "execution_count": null,
   "id": "5b4bdd79",
   "metadata": {},
   "outputs": [],
   "source": [
    "# Write your solution below"
   ]
  }
 ],
 "metadata": {},
 "nbformat": 4,
 "nbformat_minor": 5
}
