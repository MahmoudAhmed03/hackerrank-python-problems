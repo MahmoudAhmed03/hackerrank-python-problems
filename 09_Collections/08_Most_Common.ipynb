{
 "cells": [
  {
   "cell_type": "markdown",
   "id": "db92192e",
   "metadata": {},
   "source": [
    "# Most Common\n",
    "**Subdomain:** Collections\n",
    "\n",
    "_Description not found_"
   ]
  },
  {
   "cell_type": "code",
   "execution_count": null,
   "id": "a8364821",
   "metadata": {},
   "outputs": [],
   "source": [
    "# Write your solution below"
   ]
  }
 ],
 "metadata": {},
 "nbformat": 4,
 "nbformat_minor": 5
}
