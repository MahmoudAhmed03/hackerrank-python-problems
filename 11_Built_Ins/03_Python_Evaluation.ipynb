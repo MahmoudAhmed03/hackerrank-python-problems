{
 "cells": [
  {
   "cell_type": "markdown",
   "id": "130d7dde",
   "metadata": {},
   "source": [
    "<div class=\"challenge-body-html\"><div class=\"challenge_problem_statement\"><div class=\"msB challenge_problem_statement_body\"><div class=\"hackdown-content\"><style id=\"MathJax_SVG_styles\">.MathJax_SVG_Display {text-align: center; margin: 1em 0em; position: relative; display: block!important; text-indent: 0; max-width: none; max-height: none; min-width: 0; min-height: 0; width: 100%}\n",
    ".MathJax_SVG .MJX-monospace {font-family: monospace}\n",
    ".MathJax_SVG .MJX-sans-serif {font-family: sans-serif}\n",
    ".MathJax_SVG {display: inline; font-style: normal; font-weight: normal; line-height: normal; font-size: 100%; font-size-adjust: none; text-indent: 0; text-align: left; text-transform: none; letter-spacing: normal; word-spacing: normal; word-wrap: normal; white-space: nowrap; float: none; direction: ltr; max-width: none; max-height: none; min-width: 0; min-height: 0; border: 0; padding: 0; margin: 0}\n",
    ".MathJax_SVG * {transition: none; -webkit-transition: none; -moz-transition: none; -ms-transition: none; -o-transition: none}\n",
    ".mjx-svg-href {fill: blue; stroke: blue}\n",
    ".MathJax_SVG_LineBox {display: table!important}\n",
    ".MathJax_SVG_LineBox span {display: table-cell!important; width: 10000em!important; min-width: 0; max-width: none; padding: 0; border: 0; margin: 0}\n",
    "</style><svg style=\"display: none;\"><defs id=\"MathJax_SVG_glyphs\"></defs></svg><p>The <code>eval()</code> expression is a very powerful built-in function of Python. It helps in evaluating an expression. The expression can be a Python statement, or a code object.  </p>\n",
    "\n",
    "<p>For example:  </p>\n",
    "\n",
    "<div class=\"highlight\"><pre><span></span><span class=\"o\">&gt;&gt;&gt;</span> <span class=\"nb\">eval</span><span class=\"p\">(</span><span class=\"s2\">\"9 + 5\"</span><span class=\"p\">)</span>\n",
    "<span class=\"mi\">14</span>\n",
    "<span class=\"o\">&gt;&gt;&gt;</span> <span class=\"n\">x</span> <span class=\"o\">=</span> <span class=\"mi\">2</span>\n",
    "<span class=\"o\">&gt;&gt;&gt;</span> <span class=\"nb\">eval</span><span class=\"p\">(</span><span class=\"s2\">\"x + 3\"</span><span class=\"p\">)</span>\n",
    "<span class=\"mi\">5</span>\n",
    "</pre></div>\n",
    "\n",
    "\n",
    "<p>Here, <code>eval()</code> can also be used to work with Python keywords or defined functions and variables. These would normally be stored as strings.  </p>\n",
    "\n",
    "<p>For example:</p>\n",
    "\n",
    "<div class=\"highlight\"><pre><span></span><span class=\"o\">&gt;&gt;&gt;</span> <span class=\"nb\">type</span><span class=\"p\">(</span><span class=\"nb\">eval</span><span class=\"p\">(</span><span class=\"s2\">\"len\"</span><span class=\"p\">))</span>\n",
    "<span class=\"o\">&lt;</span><span class=\"nb\">type</span> <span class=\"s1\">'builtin_function_or_method'</span><span class=\"o\">&gt;</span>\n",
    "</pre></div>\n",
    "\n",
    "\n",
    "<p>Without eval()</p>\n",
    "\n",
    "<div class=\"highlight\"><pre><span></span><span class=\"o\">&gt;&gt;&gt;</span> <span class=\"nb\">type</span><span class=\"p\">(</span><span class=\"s2\">\"len\"</span><span class=\"p\">)</span>\n",
    "<span class=\"o\">&lt;</span><span class=\"nb\">type</span> <span class=\"s1\">'str'</span><span class=\"o\">&gt;</span>\n",
    "</pre></div>\n",
    "\n",
    "\n",
    "<p><strong>Task</strong> <br>\n",
    "You are given an expression in a line. Read that line as a string variable, such as <em>var</em>, and print the result using <em>eval(var)</em>.  </p>\n",
    "\n",
    "<p><strong>NOTE</strong>: Python2 users, please import <code>from __future__ import print_function</code>.  </p>\n",
    "\n",
    "<p><strong>Constraint</strong> <br>\n",
    "Input string is less than 100 characters.  </p>\n",
    "\n",
    "<p><strong>Sample Input</strong>  </p>\n",
    "\n",
    "<pre><code>print(2 + 3)\n",
    "</code></pre>\n",
    "\n",
    "<p><strong>Sample Output</strong>  </p>\n",
    "\n",
    "<pre><code>5\n",
    "</code></pre>\n",
    "\n",
    "</div></div></div></div>"
   ]
  },
  {
   "cell_type": "code",
   "execution_count": null,
   "id": "074766b9",
   "metadata": {},
   "outputs": [],
   "source": [
    "eval(input())"
   ]
  }
 ],
 "metadata": {
  "language_info": {
   "name": "python"
  }
 },
 "nbformat": 4,
 "nbformat_minor": 5
}
