{
 "cells": [
  {
   "cell_type": "markdown",
   "id": "c1bf297e",
   "metadata": {},
   "source": [
    "# XML 1 – Find the Score\n",
    "**Subdomain:** XML\n",
    "\n",
    "_Description not found_"
   ]
  },
  {
   "cell_type": "code",
   "execution_count": null,
   "id": "ad5b7619",
   "metadata": {},
   "outputs": [],
   "source": [
    "# Write your solution below"
   ]
  }
 ],
 "metadata": {},
 "nbformat": 4,
 "nbformat_minor": 5
}
