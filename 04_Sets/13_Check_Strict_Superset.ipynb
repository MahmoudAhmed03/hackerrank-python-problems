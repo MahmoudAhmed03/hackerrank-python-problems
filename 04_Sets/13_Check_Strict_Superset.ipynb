{
 "cells": [
  {
   "cell_type": "markdown",
   "id": "9a79f5c6",
   "metadata": {},
   "source": [
    "# Check Strict Superset\n",
    "**Subdomain:** Sets\n",
    "\n",
    "_Description not found_"
   ]
  },
  {
   "cell_type": "code",
   "execution_count": null,
   "id": "859c0020",
   "metadata": {},
   "outputs": [],
   "source": [
    "# Write your solution below"
   ]
  }
 ],
 "metadata": {},
 "nbformat": 4,
 "nbformat_minor": 5
}
