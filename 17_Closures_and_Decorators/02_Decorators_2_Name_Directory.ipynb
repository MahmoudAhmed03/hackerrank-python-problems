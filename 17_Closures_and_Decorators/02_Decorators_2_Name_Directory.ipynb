{
 "cells": [
  {
   "cell_type": "markdown",
   "id": "0e78a090",
   "metadata": {},
   "source": [
    "# Decorators 2 – Name Directory\n",
    "**Subdomain:** Closures and Decorators\n",
    "\n",
    "_Description not found_"
   ]
  },
  {
   "cell_type": "code",
   "execution_count": null,
   "id": "c96c2582",
   "metadata": {},
   "outputs": [],
   "source": [
    "# Write your solution below"
   ]
  }
 ],
 "metadata": {},
 "nbformat": 4,
 "nbformat_minor": 5
}
