{
 "cells": [
  {
   "cell_type": "markdown",
   "id": "9558ff7a",
   "metadata": {},
   "source": [
    "# itertools.combinations_with_replacement()\n",
    "**Subdomain:** Itertools\n",
    "\n",
    "_Description not found_"
   ]
  },
  {
   "cell_type": "code",
   "execution_count": null,
   "id": "d3562f29",
   "metadata": {},
   "outputs": [],
   "source": [
    "# Write your solution below"
   ]
  }
 ],
 "metadata": {},
 "nbformat": 4,
 "nbformat_minor": 5
}
