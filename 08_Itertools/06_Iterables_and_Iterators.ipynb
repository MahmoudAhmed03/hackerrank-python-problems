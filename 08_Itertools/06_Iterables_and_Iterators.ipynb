{
 "cells": [
  {
   "cell_type": "markdown",
   "id": "970a5587",
   "metadata": {},
   "source": [
    "# Iterables and Iterators\n",
    "**Subdomain:** Itertools\n",
    "\n",
    "_Description not found_"
   ]
  },
  {
   "cell_type": "code",
   "execution_count": null,
   "id": "31df0c43",
   "metadata": {},
   "outputs": [],
   "source": [
    "# Write your solution below"
   ]
  }
 ],
 "metadata": {},
 "nbformat": 4,
 "nbformat_minor": 5
}
