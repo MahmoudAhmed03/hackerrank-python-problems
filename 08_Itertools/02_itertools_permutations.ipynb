{
 "cells": [
  {
   "cell_type": "markdown",
   "id": "424ce5f5",
   "metadata": {},
   "source": [
    "# itertools.permutations()\n",
    "**Subdomain:** Itertools\n",
    "\n",
    "_Description not found_"
   ]
  },
  {
   "cell_type": "code",
   "execution_count": null,
   "id": "8336dada",
   "metadata": {},
   "outputs": [],
   "source": [
    "# Write your solution below"
   ]
  }
 ],
 "metadata": {},
 "nbformat": 4,
 "nbformat_minor": 5
}
