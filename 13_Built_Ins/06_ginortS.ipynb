{
 "cells": [
  {
   "cell_type": "markdown",
   "id": "1edc6a20",
   "metadata": {},
   "source": [
    "# ginortS\n",
    "**Subdomain:** Built-Ins\n",
    "\n",
    "_Description not found_"
   ]
  },
  {
   "cell_type": "code",
   "execution_count": null,
   "id": "13cf66f3",
   "metadata": {},
   "outputs": [],
   "source": [
    "# Write your solution below"
   ]
  }
 ],
 "metadata": {},
 "nbformat": 4,
 "nbformat_minor": 5
}
