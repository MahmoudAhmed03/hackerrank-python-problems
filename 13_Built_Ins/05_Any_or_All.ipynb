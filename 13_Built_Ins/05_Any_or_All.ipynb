{
 "cells": [
  {
   "cell_type": "markdown",
   "id": "598a1fb5",
   "metadata": {},
   "source": [
    "# Any or All\n",
    "**Subdomain:** Built-Ins\n",
    "\n",
    "_Description not found_"
   ]
  },
  {
   "cell_type": "code",
   "execution_count": null,
   "id": "ed7bf17e",
   "metadata": {},
   "outputs": [],
   "source": [
    "# Write your solution below"
   ]
  }
 ],
 "metadata": {},
 "nbformat": 4,
 "nbformat_minor": 5
}
