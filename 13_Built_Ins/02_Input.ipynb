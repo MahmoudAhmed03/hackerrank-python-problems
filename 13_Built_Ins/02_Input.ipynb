{
 "cells": [
  {
   "cell_type": "markdown",
   "id": "a871e6fb",
   "metadata": {},
   "source": [
    "# Input()\n",
    "**Subdomain:** Built-Ins\n",
    "\n",
    "_Description not found_"
   ]
  },
  {
   "cell_type": "code",
   "execution_count": null,
   "id": "e48b676c",
   "metadata": {},
   "outputs": [],
   "source": [
    "# Write your solution below"
   ]
  }
 ],
 "metadata": {},
 "nbformat": 4,
 "nbformat_minor": 5
}
