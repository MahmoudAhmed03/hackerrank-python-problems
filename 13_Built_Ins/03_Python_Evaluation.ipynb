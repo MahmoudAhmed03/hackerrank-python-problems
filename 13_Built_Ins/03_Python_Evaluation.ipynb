{
 "cells": [
  {
   "cell_type": "markdown",
   "id": "130d7dde",
   "metadata": {},
   "source": [
    "# Python Evaluation\n",
    "**Subdomain:** Built-Ins\n",
    "\n",
    "_Description not found_"
   ]
  },
  {
   "cell_type": "code",
   "execution_count": null,
   "id": "074766b9",
   "metadata": {},
   "outputs": [],
   "source": [
    "# Write your solution below"
   ]
  }
 ],
 "metadata": {},
 "nbformat": 4,
 "nbformat_minor": 5
}
