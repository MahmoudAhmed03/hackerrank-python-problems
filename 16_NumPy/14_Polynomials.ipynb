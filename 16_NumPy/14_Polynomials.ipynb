{
 "cells": [
  {
   "cell_type": "markdown",
   "id": "e1c1a899",
   "metadata": {},
   "source": [
    "# Polynomials\n",
    "**Subdomain:** NumPy\n",
    "\n",
    "_Description not found_"
   ]
  },
  {
   "cell_type": "code",
   "execution_count": null,
   "id": "d7364854",
   "metadata": {},
   "outputs": [],
   "source": [
    "# Write your solution below"
   ]
  }
 ],
 "metadata": {},
 "nbformat": 4,
 "nbformat_minor": 5
}
