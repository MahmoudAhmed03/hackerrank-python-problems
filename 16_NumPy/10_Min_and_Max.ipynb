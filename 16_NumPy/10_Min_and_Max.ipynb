{
 "cells": [
  {
   "cell_type": "markdown",
   "id": "38e856aa",
   "metadata": {},
   "source": [
    "# Min and Max\n",
    "**Subdomain:** NumPy\n",
    "\n",
    "_Description not found_"
   ]
  },
  {
   "cell_type": "code",
   "execution_count": null,
   "id": "d232c256",
   "metadata": {},
   "outputs": [],
   "source": [
    "# Write your solution below"
   ]
  }
 ],
 "metadata": {},
 "nbformat": 4,
 "nbformat_minor": 5
}
