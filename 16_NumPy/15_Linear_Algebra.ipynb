{
 "cells": [
  {
   "cell_type": "markdown",
   "id": "a72b63ba",
   "metadata": {},
   "source": [
    "# Linear Algebra\n",
    "**Subdomain:** NumPy\n",
    "\n",
    "_Description not found_"
   ]
  },
  {
   "cell_type": "code",
   "execution_count": null,
   "id": "8440a6f5",
   "metadata": {},
   "outputs": [],
   "source": [
    "# Write your solution below"
   ]
  }
 ],
 "metadata": {},
 "nbformat": 4,
 "nbformat_minor": 5
}
