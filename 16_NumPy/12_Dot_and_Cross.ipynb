{
 "cells": [
  {
   "cell_type": "markdown",
   "id": "f4815a13",
   "metadata": {},
   "source": [
    "# Dot and Cross\n",
    "**Subdomain:** NumPy\n",
    "\n",
    "_Description not found_"
   ]
  },
  {
   "cell_type": "code",
   "execution_count": null,
   "id": "d9c7f27f",
   "metadata": {},
   "outputs": [],
   "source": [
    "# Write your solution below"
   ]
  }
 ],
 "metadata": {},
 "nbformat": 4,
 "nbformat_minor": 5
}
