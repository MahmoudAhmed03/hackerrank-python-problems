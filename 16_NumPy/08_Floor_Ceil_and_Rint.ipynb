{
 "cells": [
  {
   "cell_type": "markdown",
   "id": "33910139",
   "metadata": {},
   "source": [
    "# Floor, Ceil and Rint\n",
    "**Subdomain:** NumPy\n",
    "\n",
    "_Description not found_"
   ]
  },
  {
   "cell_type": "code",
   "execution_count": null,
   "id": "c5beb1e7",
   "metadata": {},
   "outputs": [],
   "source": [
    "# Write your solution below"
   ]
  }
 ],
 "metadata": {},
 "nbformat": 4,
 "nbformat_minor": 5
}
