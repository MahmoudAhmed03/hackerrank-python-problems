{
 "cells": [
  {
   "cell_type": "markdown",
   "id": "830d77a4",
   "metadata": {},
   "source": [
    "# Mean, Var, and Std\n",
    "**Subdomain:** NumPy\n",
    "\n",
    "_Description not found_"
   ]
  },
  {
   "cell_type": "code",
   "execution_count": null,
   "id": "0bd96847",
   "metadata": {},
   "outputs": [],
   "source": [
    "# Write your solution below"
   ]
  }
 ],
 "metadata": {},
 "nbformat": 4,
 "nbformat_minor": 5
}
