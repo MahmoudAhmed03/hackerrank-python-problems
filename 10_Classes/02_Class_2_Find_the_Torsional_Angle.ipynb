{
 "cells": [
  {
   "cell_type": "markdown",
   "id": "ba9c0a1d",
   "metadata": {},
   "source": [
    "# Class 2 - Find the Torsional Angle\n",
    "**Subdomain:** Classes\n",
    "\n",
    "_Description not found_"
   ]
  },
  {
   "cell_type": "code",
   "execution_count": null,
   "id": "508d92b1",
   "metadata": {},
   "outputs": [],
   "source": [
    "# Write your solution below"
   ]
  }
 ],
 "metadata": {},
 "nbformat": 4,
 "nbformat_minor": 5
}
