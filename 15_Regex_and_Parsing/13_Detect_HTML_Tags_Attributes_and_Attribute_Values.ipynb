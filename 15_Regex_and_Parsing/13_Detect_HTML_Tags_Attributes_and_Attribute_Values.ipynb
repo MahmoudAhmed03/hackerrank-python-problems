{
 "cells": [
  {
   "cell_type": "markdown",
   "id": "bf18751a",
   "metadata": {},
   "source": [
    "# Detect HTML Tags, Attributes and Attribute Values\n",
    "**Subdomain:** Regex and Parsing\n",
    "\n",
    "_Description not found_"
   ]
  },
  {
   "cell_type": "code",
   "execution_count": null,
   "id": "f6afc886",
   "metadata": {},
   "outputs": [],
   "source": [
    "# Write your solution below"
   ]
  }
 ],
 "metadata": {},
 "nbformat": 4,
 "nbformat_minor": 5
}
