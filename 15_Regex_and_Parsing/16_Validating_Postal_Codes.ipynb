{
 "cells": [
  {
   "cell_type": "markdown",
   "id": "2d568d91",
   "metadata": {},
   "source": [
    "# Validating Postal Codes\n",
    "**Subdomain:** Regex and Parsing\n",
    "\n",
    "_Description not found_"
   ]
  },
  {
   "cell_type": "code",
   "execution_count": null,
   "id": "33c28885",
   "metadata": {},
   "outputs": [],
   "source": [
    "# Write your solution below"
   ]
  }
 ],
 "metadata": {},
 "nbformat": 4,
 "nbformat_minor": 5
}
