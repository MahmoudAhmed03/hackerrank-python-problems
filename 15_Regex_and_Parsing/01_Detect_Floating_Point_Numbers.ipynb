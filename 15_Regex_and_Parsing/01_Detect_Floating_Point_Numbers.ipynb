{
 "cells": [
  {
   "cell_type": "markdown",
   "id": "9aecce1f",
   "metadata": {},
   "source": [
    "# Detect Floating Point Numbers\n",
    "**Subdomain:** Regex and Parsing\n",
    "\n",
    "_Description not found_"
   ]
  },
  {
   "cell_type": "code",
   "execution_count": null,
   "id": "e4d0be7d",
   "metadata": {},
   "outputs": [],
   "source": [
    "# Write your solution below"
   ]
  }
 ],
 "metadata": {},
 "nbformat": 4,
 "nbformat_minor": 5
}
