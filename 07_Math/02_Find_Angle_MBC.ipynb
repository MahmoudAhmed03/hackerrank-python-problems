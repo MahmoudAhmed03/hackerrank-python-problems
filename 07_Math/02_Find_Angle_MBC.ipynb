{
 "cells": [
  {
   "cell_type": "markdown",
   "id": "2ff8e34a",
   "metadata": {},
   "source": [
    "# Find Angle MBC\n",
    "**Subdomain:** Math\n",
    "\n",
    "_Description not found_"
   ]
  },
  {
   "cell_type": "code",
   "execution_count": null,
   "id": "c259bd2d",
   "metadata": {},
   "outputs": [],
   "source": [
    "# Write your solution below"
   ]
  }
 ],
 "metadata": {},
 "nbformat": 4,
 "nbformat_minor": 5
}
