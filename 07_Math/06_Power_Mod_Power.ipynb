{
 "cells": [
  {
   "cell_type": "markdown",
   "id": "c85e616f",
   "metadata": {},
   "source": [
    "# Power - Mod Power\n",
    "**Subdomain:** Math\n",
    "\n",
    "_Description not found_"
   ]
  },
  {
   "cell_type": "code",
   "execution_count": null,
   "id": "2c8811f7",
   "metadata": {},
   "outputs": [],
   "source": [
    "# Write your solution below"
   ]
  }
 ],
 "metadata": {},
 "nbformat": 4,
 "nbformat_minor": 5
}
