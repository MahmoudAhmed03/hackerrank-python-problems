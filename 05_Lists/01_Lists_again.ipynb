{
 "cells": [
  {
   "cell_type": "markdown",
   "id": "29d213fd",
   "metadata": {},
   "source": [
    "# Lists (again)\n",
    "**Subdomain:** Lists\n",
    "\n",
    "_Description not found_"
   ]
  },
  {
   "cell_type": "code",
   "execution_count": null,
   "id": "e9017793",
   "metadata": {},
   "outputs": [],
   "source": [
    "# Write your solution below"
   ]
  }
 ],
 "metadata": {},
 "nbformat": 4,
 "nbformat_minor": 5
}
