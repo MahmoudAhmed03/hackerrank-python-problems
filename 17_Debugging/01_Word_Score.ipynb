{
 "cells": [
  {
   "cell_type": "markdown",
   "id": "2a4f071e",
   "metadata": {},
   "source": [
    "# Word Score\n",
    "**Subdomain:** Debugging\n",
    "\n",
    "_Description not found_"
   ]
  },
  {
   "cell_type": "code",
   "execution_count": null,
   "id": "7071dca2",
   "metadata": {},
   "outputs": [],
   "source": [
    "# Write your solution below"
   ]
  }
 ],
 "metadata": {},
 "nbformat": 4,
 "nbformat_minor": 5
}
