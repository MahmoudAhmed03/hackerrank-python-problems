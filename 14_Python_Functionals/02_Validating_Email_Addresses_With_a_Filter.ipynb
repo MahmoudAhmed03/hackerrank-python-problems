{
 "cells": [
  {
   "cell_type": "markdown",
   "id": "b9f6a595",
   "metadata": {},
   "source": [
    "# Validating Email Addresses With a Filter\n",
    "**Subdomain:** Python Functionals\n",
    "\n",
    "_Description not found_"
   ]
  },
  {
   "cell_type": "code",
   "execution_count": null,
   "id": "5782986a",
   "metadata": {},
   "outputs": [],
   "source": [
    "# Write your solution below"
   ]
  }
 ],
 "metadata": {},
 "nbformat": 4,
 "nbformat_minor": 5
}
