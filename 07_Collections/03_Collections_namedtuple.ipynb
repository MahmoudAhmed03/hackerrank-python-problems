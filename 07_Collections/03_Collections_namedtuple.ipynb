{
 "cells": [
  {
   "cell_type": "markdown",
   "id": "1abcf366",
   "metadata": {},
   "source": [
    "# Collections.namedtuple()\n",
    "**Subdomain:** Collections\n",
    "\n",
    "_Description not found_"
   ]
  },
  {
   "cell_type": "code",
   "execution_count": null,
   "id": "824956d8",
   "metadata": {},
   "outputs": [],
   "source": [
    "# Write your solution below"
   ]
  }
 ],
 "metadata": {},
 "nbformat": 4,
 "nbformat_minor": 5
}
