{
 "cells": [
  {
   "cell_type": "markdown",
   "id": "3e4d0101",
   "metadata": {},
   "source": [
    "# Tuples (again)\n",
    "**Subdomain:** Tuples\n",
    "\n",
    "_Description not found_"
   ]
  },
  {
   "cell_type": "code",
   "execution_count": null,
   "id": "bc29cb06",
   "metadata": {},
   "outputs": [],
   "source": [
    "# Write your solution below"
   ]
  }
 ],
 "metadata": {},
 "nbformat": 4,
 "nbformat_minor": 5
}
