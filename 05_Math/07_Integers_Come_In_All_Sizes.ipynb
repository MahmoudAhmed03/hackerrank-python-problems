{
 "cells": [
  {
   "cell_type": "markdown",
   "id": "b15f4a10",
   "metadata": {},
   "source": [
    "# Integers Come In All Sizes\n",
    "**Subdomain:** Math\n",
    "\n",
    "_Description not found_"
   ]
  },
  {
   "cell_type": "code",
   "execution_count": null,
   "id": "a72b2cb0",
   "metadata": {},
   "outputs": [],
   "source": [
    "# Write your solution below"
   ]
  }
 ],
 "metadata": {},
 "nbformat": 4,
 "nbformat_minor": 5
}
