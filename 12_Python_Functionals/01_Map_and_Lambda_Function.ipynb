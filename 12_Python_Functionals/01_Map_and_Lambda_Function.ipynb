{
 "cells": [
  {
   "cell_type": "markdown",
   "id": "5cd7ae9b",
   "metadata": {},
   "source": [
    "# Map and Lambda Function\n",
    "**Subdomain:** Python Functionals\n",
    "\n",
    "_Description not found_"
   ]
  },
  {
   "cell_type": "code",
   "execution_count": null,
   "id": "34282f80",
   "metadata": {},
   "outputs": [],
   "source": [
    "# Write your solution below"
   ]
  }
 ],
 "metadata": {},
 "nbformat": 4,
 "nbformat_minor": 5
}
