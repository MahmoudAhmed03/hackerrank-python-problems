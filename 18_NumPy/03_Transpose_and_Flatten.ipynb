{
 "cells": [
  {
   "cell_type": "markdown",
   "id": "eff62eab",
   "metadata": {},
   "source": [
    "# Transpose and Flatten\n",
    "**Subdomain:** NumPy\n",
    "\n",
    "_Description not found_"
   ]
  },
  {
   "cell_type": "code",
   "execution_count": null,
   "id": "edb93710",
   "metadata": {},
   "outputs": [],
   "source": [
    "# Write your solution below"
   ]
  }
 ],
 "metadata": {},
 "nbformat": 4,
 "nbformat_minor": 5
}
