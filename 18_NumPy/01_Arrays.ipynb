{
 "cells": [
  {
   "cell_type": "markdown",
   "id": "365a9fd2",
   "metadata": {},
   "source": [
    "# Arrays\n",
    "**Subdomain:** NumPy\n",
    "\n",
    "_Description not found_"
   ]
  },
  {
   "cell_type": "code",
   "execution_count": null,
   "id": "02867f15",
   "metadata": {},
   "outputs": [],
   "source": [
    "# Write your solution below"
   ]
  }
 ],
 "metadata": {},
 "nbformat": 4,
 "nbformat_minor": 5
}
