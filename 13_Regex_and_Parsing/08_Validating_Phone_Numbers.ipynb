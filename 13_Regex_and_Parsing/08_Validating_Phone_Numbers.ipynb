{
 "cells": [
  {
   "cell_type": "markdown",
   "id": "2d4b2d01",
   "metadata": {},
   "source": [
    "# Validating Phone Numbers\n",
    "**Subdomain:** Regex and Parsing\n",
    "\n",
    "_Description not found_"
   ]
  },
  {
   "cell_type": "code",
   "execution_count": null,
   "id": "0ab4fb26",
   "metadata": {},
   "outputs": [],
   "source": [
    "# Write your solution below"
   ]
  }
 ],
 "metadata": {},
 "nbformat": 4,
 "nbformat_minor": 5
}
