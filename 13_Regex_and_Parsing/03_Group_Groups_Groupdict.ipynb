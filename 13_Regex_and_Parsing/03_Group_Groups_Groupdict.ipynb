{
 "cells": [
  {
   "cell_type": "markdown",
   "id": "cd4530aa",
   "metadata": {},
   "source": [
    "# Group(), Groups() & Groupdict()\n",
    "**Subdomain:** Regex and Parsing\n",
    "\n",
    "_Description not found_"
   ]
  },
  {
   "cell_type": "code",
   "execution_count": null,
   "id": "c84b85fe",
   "metadata": {},
   "outputs": [],
   "source": [
    "# Write your solution below"
   ]
  }
 ],
 "metadata": {},
 "nbformat": 4,
 "nbformat_minor": 5
}
