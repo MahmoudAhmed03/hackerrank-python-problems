{
 "cells": [
  {
   "cell_type": "markdown",
   "id": "e26a9508",
   "metadata": {},
   "source": [
    "# Re.start() & Re.end()\n",
    "**Subdomain:** Regex and Parsing\n",
    "\n",
    "_Description not found_"
   ]
  },
  {
   "cell_type": "code",
   "execution_count": null,
   "id": "ff667394",
   "metadata": {},
   "outputs": [],
   "source": [
    "# Write your solution below"
   ]
  }
 ],
 "metadata": {},
 "nbformat": 4,
 "nbformat_minor": 5
}
