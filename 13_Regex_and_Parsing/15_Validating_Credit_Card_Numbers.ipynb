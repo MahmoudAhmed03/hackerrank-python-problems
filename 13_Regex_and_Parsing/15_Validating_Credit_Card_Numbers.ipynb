{
 "cells": [
  {
   "cell_type": "markdown",
   "id": "f3923489",
   "metadata": {},
   "source": [
    "# Validating Credit Card Numbers\n",
    "**Subdomain:** Regex and Parsing\n",
    "\n",
    "_Description not found_"
   ]
  },
  {
   "cell_type": "code",
   "execution_count": null,
   "id": "749fad55",
   "metadata": {},
   "outputs": [],
   "source": [
    "# Write your solution below"
   ]
  }
 ],
 "metadata": {},
 "nbformat": 4,
 "nbformat_minor": 5
}
