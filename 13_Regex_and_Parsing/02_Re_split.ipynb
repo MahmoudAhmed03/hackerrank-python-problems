{
 "cells": [
  {
   "cell_type": "markdown",
   "id": "6b41e840",
   "metadata": {},
   "source": [
    "# Re.split()\n",
    "**Subdomain:** Regex and Parsing\n",
    "\n",
    "_Description not found_"
   ]
  },
  {
   "cell_type": "code",
   "execution_count": null,
   "id": "027382af",
   "metadata": {},
   "outputs": [],
   "source": [
    "# Write your solution below"
   ]
  }
 ],
 "metadata": {},
 "nbformat": 4,
 "nbformat_minor": 5
}
