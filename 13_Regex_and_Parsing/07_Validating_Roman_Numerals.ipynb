{
 "cells": [
  {
   "cell_type": "markdown",
   "id": "9b795bb9",
   "metadata": {},
   "source": [
    "# Validating Roman Numerals\n",
    "**Subdomain:** Regex and Parsing\n",
    "\n",
    "_Description not found_"
   ]
  },
  {
   "cell_type": "code",
   "execution_count": null,
   "id": "b3bd549f",
   "metadata": {},
   "outputs": [],
   "source": [
    "# Write your solution below"
   ]
  }
 ],
 "metadata": {},
 "nbformat": 4,
 "nbformat_minor": 5
}
