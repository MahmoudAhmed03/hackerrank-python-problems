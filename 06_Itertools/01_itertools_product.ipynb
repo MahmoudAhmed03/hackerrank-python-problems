{
 "cells": [
  {
   "cell_type": "markdown",
   "id": "4ec73514",
   "metadata": {},
   "source": [
    "# itertools.product()\n",
    "**Subdomain:** Itertools\n",
    "\n",
    "_Description not found_"
   ]
  },
  {
   "cell_type": "code",
   "execution_count": null,
   "id": "25f271b8",
   "metadata": {},
   "outputs": [],
   "source": [
    "# Write your solution below"
   ]
  }
 ],
 "metadata": {},
 "nbformat": 4,
 "nbformat_minor": 5
}
