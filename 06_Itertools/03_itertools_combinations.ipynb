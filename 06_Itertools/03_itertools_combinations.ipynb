{
 "cells": [
  {
   "cell_type": "markdown",
   "id": "75660052",
   "metadata": {},
   "source": [
    "# itertools.combinations()\n",
    "**Subdomain:** Itertools\n",
    "\n",
    "_Description not found_"
   ]
  },
  {
   "cell_type": "code",
   "execution_count": null,
   "id": "52816e01",
   "metadata": {},
   "outputs": [],
   "source": [
    "# Write your solution below"
   ]
  }
 ],
 "metadata": {},
 "nbformat": 4,
 "nbformat_minor": 5
}
